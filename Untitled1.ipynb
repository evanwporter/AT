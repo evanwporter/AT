{
 "cells": [
  {
   "cell_type": "code",
   "execution_count": 1,
   "id": "73aab909",
   "metadata": {},
   "outputs": [
    {
     "data": {
      "text/html": [
       "<div>\n",
       "<style scoped>\n",
       "    .dataframe tbody tr th:only-of-type {\n",
       "        vertical-align: middle;\n",
       "    }\n",
       "\n",
       "    .dataframe tbody tr th {\n",
       "        vertical-align: top;\n",
       "    }\n",
       "\n",
       "    .dataframe thead th {\n",
       "        text-align: right;\n",
       "    }\n",
       "</style>\n",
       "<table border=\"1\" class=\"dataframe\">\n",
       "  <thead>\n",
       "    <tr style=\"text-align: right;\">\n",
       "      <th></th>\n",
       "      <th>Open</th>\n",
       "      <th>High</th>\n",
       "      <th>Low</th>\n",
       "      <th>Close</th>\n",
       "      <th>Volume</th>\n",
       "    </tr>\n",
       "  </thead>\n",
       "  <tbody>\n",
       "    <tr>\n",
       "      <th>2013-02-25</th>\n",
       "      <td>802.3</td>\n",
       "      <td>808.41</td>\n",
       "      <td>790.49</td>\n",
       "      <td>790.77</td>\n",
       "      <td>2303900</td>\n",
       "    </tr>\n",
       "    <tr>\n",
       "      <th>2013-02-26</th>\n",
       "      <td>795.0</td>\n",
       "      <td>795.95</td>\n",
       "      <td>784.40</td>\n",
       "      <td>790.13</td>\n",
       "      <td>2202500</td>\n",
       "    </tr>\n",
       "    <tr>\n",
       "      <th>2013-02-27</th>\n",
       "      <td>794.8</td>\n",
       "      <td>804.75</td>\n",
       "      <td>791.11</td>\n",
       "      <td>799.78</td>\n",
       "      <td>2026100</td>\n",
       "    </tr>\n",
       "    <tr>\n",
       "      <th>2013-02-28</th>\n",
       "      <td>801.1</td>\n",
       "      <td>806.99</td>\n",
       "      <td>801.03</td>\n",
       "      <td>801.20</td>\n",
       "      <td>2265800</td>\n",
       "    </tr>\n",
       "    <tr>\n",
       "      <th>2013-03-01</th>\n",
       "      <td>797.8</td>\n",
       "      <td>807.14</td>\n",
       "      <td>796.15</td>\n",
       "      <td>806.19</td>\n",
       "      <td>2175400</td>\n",
       "    </tr>\n",
       "  </tbody>\n",
       "</table>\n",
       "</div>"
      ],
      "text/plain": [
       "             Open    High     Low   Close   Volume\n",
       "2013-02-25  802.3  808.41  790.49  790.77  2303900\n",
       "2013-02-26  795.0  795.95  784.40  790.13  2202500\n",
       "2013-02-27  794.8  804.75  791.11  799.78  2026100\n",
       "2013-02-28  801.1  806.99  801.03  801.20  2265800\n",
       "2013-03-01  797.8  807.14  796.15  806.19  2175400"
      ]
     },
     "execution_count": 1,
     "metadata": {},
     "output_type": "execute_result"
    }
   ],
   "source": [
    "from Data import GOOG\n",
    "\n",
    "GOOG.tail()"
   ]
  },
  {
   "cell_type": "code",
   "execution_count": 6,
   "id": "808fd85c",
   "metadata": {},
   "outputs": [],
   "source": [
    "import numpy as np"
   ]
  },
  {
   "cell_type": "code",
   "execution_count": 5,
   "id": "c9e48749",
   "metadata": {},
   "outputs": [
    {
     "name": "stdout",
     "output_type": "stream",
     "text": [
      "Unexpected exception formatting exception. Falling back to standard exception\n"
     ]
    },
    {
     "name": "stderr",
     "output_type": "stream",
     "text": [
      "Traceback (most recent call last):\n",
      "  File \"C:\\Users\\evanw\\miniconda3\\lib\\site-packages\\IPython\\core\\interactiveshell.py\", line 3369, in run_code\n",
      "    exec(code_obj, self.user_global_ns, self.user_ns)\n",
      "  File \"C:\\Users\\evanw\\AppData\\Local\\Temp\\ipykernel_27272\\2871800456.py\", line 1, in <cell line: 1>\n",
      "    import AT\n",
      "  File \"C:\\Users\\evanw\\OneDrive\\Desktop\\AT-master\\AT\\__init__.py\", line 3, in <module>\n",
      "    from .Broker import *\n",
      "  File \"C:\\Users\\evanw\\OneDrive\\Desktop\\AT-master\\AT\\Broker\\__init__.py\", line 1, in <module>\n",
      "    from .sim_execution import SimulateExecutionHandler\n",
      "  File \"C:\\Users\\evanw\\OneDrive\\Desktop\\AT-master\\AT\\Broker\\sim_execution.py\", line 2, in <module>\n",
      "    from .orders import *\n",
      "  File \"C:\\Users\\evanw\\OneDrive\\Desktop\\AT-master\\AT\\Broker\\orders.py\", line 2, in <module>\n",
      "    from enums import side\n",
      "ModuleNotFoundError: No module named 'enums'\n",
      "\n",
      "During handling of the above exception, another exception occurred:\n",
      "\n",
      "Traceback (most recent call last):\n",
      "  File \"C:\\Users\\evanw\\miniconda3\\lib\\site-packages\\IPython\\core\\interactiveshell.py\", line 1982, in showtraceback\n",
      "    stb = self.InteractiveTB.structured_traceback(\n",
      "  File \"C:\\Users\\evanw\\miniconda3\\lib\\site-packages\\IPython\\core\\ultratb.py\", line 1118, in structured_traceback\n",
      "    return FormattedTB.structured_traceback(\n",
      "  File \"C:\\Users\\evanw\\miniconda3\\lib\\site-packages\\IPython\\core\\ultratb.py\", line 1012, in structured_traceback\n",
      "    return VerboseTB.structured_traceback(\n",
      "  File \"C:\\Users\\evanw\\miniconda3\\lib\\site-packages\\IPython\\core\\ultratb.py\", line 865, in structured_traceback\n",
      "    formatted_exception = self.format_exception_as_a_whole(etype, evalue, etb, number_of_lines_of_context,\n",
      "  File \"C:\\Users\\evanw\\miniconda3\\lib\\site-packages\\IPython\\core\\ultratb.py\", line 818, in format_exception_as_a_whole\n",
      "    frames.append(self.format_record(r))\n",
      "  File \"C:\\Users\\evanw\\miniconda3\\lib\\site-packages\\IPython\\core\\ultratb.py\", line 736, in format_record\n",
      "    result += ''.join(_format_traceback_lines(frame_info.lines, Colors, self.has_colors, lvals))\n",
      "  File \"C:\\Users\\evanw\\miniconda3\\lib\\site-packages\\stack_data\\utils.py\", line 145, in cached_property_wrapper\n",
      "    value = obj.__dict__[self.func.__name__] = self.func(obj)\n",
      "  File \"C:\\Users\\evanw\\miniconda3\\lib\\site-packages\\stack_data\\core.py\", line 698, in lines\n",
      "    pieces = self.included_pieces\n",
      "  File \"C:\\Users\\evanw\\miniconda3\\lib\\site-packages\\stack_data\\utils.py\", line 145, in cached_property_wrapper\n",
      "    value = obj.__dict__[self.func.__name__] = self.func(obj)\n",
      "  File \"C:\\Users\\evanw\\miniconda3\\lib\\site-packages\\stack_data\\core.py\", line 649, in included_pieces\n",
      "    pos = scope_pieces.index(self.executing_piece)\n",
      "  File \"C:\\Users\\evanw\\miniconda3\\lib\\site-packages\\stack_data\\utils.py\", line 145, in cached_property_wrapper\n",
      "    value = obj.__dict__[self.func.__name__] = self.func(obj)\n",
      "  File \"C:\\Users\\evanw\\miniconda3\\lib\\site-packages\\stack_data\\core.py\", line 628, in executing_piece\n",
      "    return only(\n",
      "  File \"C:\\Users\\evanw\\miniconda3\\lib\\site-packages\\executing\\executing.py\", line 164, in only\n",
      "    raise NotOneValueFound('Expected one value, found 0')\n",
      "executing.executing.NotOneValueFound: Expected one value, found 0\n"
     ]
    }
   ],
   "source": [
    "import AT"
   ]
  },
  {
   "cell_type": "code",
   "execution_count": null,
   "id": "bc73837b",
   "metadata": {},
   "outputs": [],
   "source": []
  }
 ],
 "metadata": {
  "kernelspec": {
   "display_name": "Python 3 (ipykernel)",
   "language": "python",
   "name": "python3"
  },
  "language_info": {
   "codemirror_mode": {
    "name": "ipython",
    "version": 3
   },
   "file_extension": ".py",
   "mimetype": "text/x-python",
   "name": "python",
   "nbconvert_exporter": "python",
   "pygments_lexer": "ipython3",
   "version": "3.9.5"
  }
 },
 "nbformat": 4,
 "nbformat_minor": 5
}
